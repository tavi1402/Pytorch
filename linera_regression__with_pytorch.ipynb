{
  "nbformat": 4,
  "nbformat_minor": 0,
  "metadata": {
    "colab": {
      "provenance": [],
      "authorship_tag": "ABX9TyNYsNgm6/VoOE4X4uGLBeMT",
      "include_colab_link": true
    },
    "kernelspec": {
      "name": "python3",
      "display_name": "Python 3"
    },
    "language_info": {
      "name": "python"
    }
  },
  "cells": [
    {
      "cell_type": "markdown",
      "metadata": {
        "id": "view-in-github",
        "colab_type": "text"
      },
      "source": [
        "<a href=\"https://colab.research.google.com/github/tavi1402/Pytorch/blob/main/linera_regression__with_pytorch.ipynb\" target=\"_parent\"><img src=\"https://colab.research.google.com/assets/colab-badge.svg\" alt=\"Open In Colab\"/></a>"
      ]
    },
    {
      "cell_type": "code",
      "execution_count": 1,
      "metadata": {
        "colab": {
          "base_uri": "https://localhost:8080/"
        },
        "id": "vS716-rsbP79",
        "outputId": "f18b5831-bcef-4c5c-9c31-e16dd6a58fd7"
      },
      "outputs": [
        {
          "output_type": "stream",
          "name": "stdout",
          "text": [
            "Looking in links: https://download.pytorch.org/whl/torch_stable.html\n",
            "Requirement already satisfied: numpy in /usr/local/lib/python3.10/dist-packages (1.23.5)\n",
            "\u001b[31mERROR: Could not find a version that satisfies the requirement torch==1.7.0+cpu (from versions: 1.11.0, 1.11.0+cpu, 1.11.0+cu102, 1.11.0+cu113, 1.11.0+cu115, 1.11.0+rocm4.3.1, 1.11.0+rocm4.5.2, 1.12.0, 1.12.0+cpu, 1.12.0+cu102, 1.12.0+cu113, 1.12.0+cu116, 1.12.0+rocm5.0, 1.12.0+rocm5.1.1, 1.12.1, 1.12.1+cpu, 1.12.1+cu102, 1.12.1+cu113, 1.12.1+cu116, 1.12.1+rocm5.0, 1.12.1+rocm5.1.1, 1.13.0, 1.13.0+cpu, 1.13.0+cu116, 1.13.0+cu117, 1.13.0+cu117.with.pypi.cudnn, 1.13.0+rocm5.1.1, 1.13.0+rocm5.2, 1.13.1, 1.13.1+cpu, 1.13.1+cu116, 1.13.1+cu117, 1.13.1+cu117.with.pypi.cudnn, 1.13.1+rocm5.1.1, 1.13.1+rocm5.2, 2.0.0, 2.0.0+cpu, 2.0.0+cpu.cxx11.abi, 2.0.0+cu117, 2.0.0+cu117.with.pypi.cudnn, 2.0.0+cu118, 2.0.0+rocm5.3, 2.0.0+rocm5.4.2, 2.0.1, 2.0.1+cpu, 2.0.1+cpu.cxx11.abi, 2.0.1+cu117, 2.0.1+cu117.with.pypi.cudnn, 2.0.1+cu118, 2.0.1+rocm5.3, 2.0.1+rocm5.4.2)\u001b[0m\u001b[31m\n",
            "\u001b[0m\u001b[31mERROR: No matching distribution found for torch==1.7.0+cpu\u001b[0m\u001b[31m\n",
            "\u001b[0m"
          ]
        }
      ],
      "source": [
        "!pip install numpy torch==1.7.0+cpu torchvision==0.8.1+cpu torchaudio==0.7.0 -f https://download.pytorch.org/whl/torch_stable.html"
      ]
    },
    {
      "cell_type": "markdown",
      "source": [
        "## Introduction to Linear Regression\n",
        "\n",
        "In this tutorial, we'll discuss one of the foundational algorithms in machine learning: *Linear regression*. We'll create a model that predicts crop yields for apples and oranges (*target variables*) by looking at the average temperature, rainfall, and humidity (*input variables or features*) in a region. Here's the training data:\n",
        "\n",
        "![linear-regression-training-data](https://i.imgur.com/6Ujttb4.png)\n",
        "\n",
        "In a linear regression model, each target variable is estimated to be a weighted sum of the input variables, offset by some constant, known as a bias :\n",
        "\n",
        "```\n",
        "yield_apple  = w11 * temp + w12 * rainfall + w13 * humidity + b1\n",
        "yield_orange = w21 * temp + w22 * rainfall + w23 * humidity + b2\n",
        "```\n",
        "\n",
        "Visually, it means that the yield of apples is a linear or planar function of temperature, rainfall and humidity:\n",
        "\n",
        "![linear-regression-graph](https://i.imgur.com/4DJ9f8X.png)"
      ],
      "metadata": {
        "id": "ZVLBlClmdUcp"
      }
    },
    {
      "cell_type": "code",
      "source": [
        "import numpy as np\n",
        "import torch"
      ],
      "metadata": {
        "id": "kSqzP7OqbTEV"
      },
      "execution_count": 1,
      "outputs": []
    },
    {
      "cell_type": "markdown",
      "source": [
        "### **Step1** Take the input as an array"
      ],
      "metadata": {
        "id": "W4GGV3brdAyc"
      }
    },
    {
      "cell_type": "code",
      "source": [
        "# input= teprature, humidity,rainfall\n",
        "inputs= np.array([[73,67,43],\n",
        "                [91,88,64],\n",
        "                [87,134,58],\n",
        "                [102,43,37],\n",
        "                [69,96,70]], dtype=\"float32\")"
      ],
      "metadata": {
        "id": "5ZkoZYsObeAc"
      },
      "execution_count": 2,
      "outputs": []
    },
    {
      "cell_type": "code",
      "source": [
        "#targets=[apple and oranges ]\n",
        "targets= np.array([[56,70],\n",
        "                  [81, 101],\n",
        "                  [119,133],\n",
        "                  [22,37],\n",
        "                  [103,119]], dtype= \"float32\")"
      ],
      "metadata": {
        "id": "FUsyA9tobo-N"
      },
      "execution_count": 3,
      "outputs": []
    },
    {
      "cell_type": "markdown",
      "source": [
        "###  **Step2**- Convert input and targets into tensors"
      ],
      "metadata": {
        "id": "xpvhbMwMdaXA"
      }
    },
    {
      "cell_type": "code",
      "source": [
        "inputs = torch.from_numpy(inputs)\n",
        "targets= torch.from_numpy(targets)"
      ],
      "metadata": {
        "id": "hVBo2iEkdZeQ"
      },
      "execution_count": 4,
      "outputs": []
    },
    {
      "cell_type": "code",
      "source": [
        "inputs"
      ],
      "metadata": {
        "colab": {
          "base_uri": "https://localhost:8080/"
        },
        "id": "dsMOLVTWeMfX",
        "outputId": "33856f3d-a993-45ab-eb2b-0f6fba29b04f"
      },
      "execution_count": 5,
      "outputs": [
        {
          "output_type": "execute_result",
          "data": {
            "text/plain": [
              "tensor([[ 73.,  67.,  43.],\n",
              "        [ 91.,  88.,  64.],\n",
              "        [ 87., 134.,  58.],\n",
              "        [102.,  43.,  37.],\n",
              "        [ 69.,  96.,  70.]])"
            ]
          },
          "metadata": {},
          "execution_count": 5
        }
      ]
    },
    {
      "cell_type": "code",
      "source": [
        "targets"
      ],
      "metadata": {
        "colab": {
          "base_uri": "https://localhost:8080/"
        },
        "id": "W0iw2D-neN-B",
        "outputId": "3192a854-d597-4bd4-fea3-e9c1d209a4a3"
      },
      "execution_count": 6,
      "outputs": [
        {
          "output_type": "execute_result",
          "data": {
            "text/plain": [
              "tensor([[ 56.,  70.],\n",
              "        [ 81., 101.],\n",
              "        [119., 133.],\n",
              "        [ 22.,  37.],\n",
              "        [103., 119.]])"
            ]
          },
          "metadata": {},
          "execution_count": 6
        }
      ]
    },
    {
      "cell_type": "markdown",
      "source": [
        "### **Step-3** Initailise the weight and biases"
      ],
      "metadata": {
        "id": "ojRAxn9qeQj0"
      }
    },
    {
      "cell_type": "code",
      "source": [
        "w= torch.randn(2,3, requires_grad=True)\n",
        "b= torch.randn(2, requires_grad= True)"
      ],
      "metadata": {
        "id": "ljsP76scfTmN"
      },
      "execution_count": 6,
      "outputs": []
    },
    {
      "cell_type": "code",
      "source": [
        "print(w, b)"
      ],
      "metadata": {
        "colab": {
          "base_uri": "https://localhost:8080/"
        },
        "id": "Y9Cf81J8fd9P",
        "outputId": "ab847ba0-d8e0-4a3f-f7b1-0efbb246dc01"
      },
      "execution_count": 7,
      "outputs": [
        {
          "output_type": "stream",
          "name": "stdout",
          "text": [
            "tensor([[ 0.6482, -1.3448, -0.0522],\n",
            "        [-0.1108,  0.4250, -2.2583]], requires_grad=True) tensor([-1.3681,  1.1727], requires_grad=True)\n"
          ]
        }
      ]
    },
    {
      "cell_type": "code",
      "source": [
        "# w*x+b\n",
        "def model(x):\n",
        "  return x @ w.t() + b\n"
      ],
      "metadata": {
        "id": "-gQq0nlTiaPS"
      },
      "execution_count": 8,
      "outputs": []
    },
    {
      "cell_type": "code",
      "source": [
        "preds= model(inputs)\n",
        "preds"
      ],
      "metadata": {
        "colab": {
          "base_uri": "https://localhost:8080/"
        },
        "id": "FCk1ZYZ5ip91",
        "outputId": "e336494b-fea6-41a0-dafa-5bbdc66541ac"
      },
      "execution_count": 9,
      "outputs": [
        {
          "output_type": "execute_result",
          "data": {
            "text/plain": [
              "tensor([[ -46.3980,  -75.5520],\n",
              "        [ -64.0686, -116.0473],\n",
              "        [-128.2109,  -82.5033],\n",
              "        [   4.9904,  -75.4167],\n",
              "        [ -89.4019, -123.7587]], grad_fn=<AddBackward0>)"
            ]
          },
          "metadata": {},
          "execution_count": 9
        }
      ]
    },
    {
      "cell_type": "code",
      "source": [
        "targets"
      ],
      "metadata": {
        "colab": {
          "base_uri": "https://localhost:8080/"
        },
        "id": "aSNr7KeljxIs",
        "outputId": "ac202892-0383-43c1-8e9a-2f4728642f38"
      },
      "execution_count": 10,
      "outputs": [
        {
          "output_type": "execute_result",
          "data": {
            "text/plain": [
              "tensor([[ 56.,  70.],\n",
              "        [ 81., 101.],\n",
              "        [119., 133.],\n",
              "        [ 22.,  37.],\n",
              "        [103., 119.]])"
            ]
          },
          "metadata": {},
          "execution_count": 10
        }
      ]
    },
    {
      "cell_type": "markdown",
      "source": [
        "### **Step4** Calculate the error"
      ],
      "metadata": {
        "id": "UIkuu4HwnsgB"
      }
    },
    {
      "cell_type": "code",
      "source": [
        "def mse(y1,y2):\n",
        "  diff=y1-y2\n",
        "  return torch.sum(diff*diff)/ diff.numel()"
      ],
      "metadata": {
        "id": "_F15580Sk10c"
      },
      "execution_count": 11,
      "outputs": []
    },
    {
      "cell_type": "code",
      "source": [
        "loss=mse(preds,targets)\n",
        "loss"
      ],
      "metadata": {
        "colab": {
          "base_uri": "https://localhost:8080/"
        },
        "id": "wzk3ZpBZlksR",
        "outputId": "47424ff3-a21a-49ad-8347-95db0041a9ed"
      },
      "execution_count": 12,
      "outputs": [
        {
          "output_type": "execute_result",
          "data": {
            "text/plain": [
              "tensor(31625.7188, grad_fn=<DivBackward0>)"
            ]
          },
          "metadata": {},
          "execution_count": 12
        }
      ]
    },
    {
      "cell_type": "markdown",
      "source": [
        "### Now to optimise the loss apply **backword propogation** to update the weight and bias.\n"
      ],
      "metadata": {
        "id": "QlNbZHhkn1q7"
      }
    },
    {
      "cell_type": "code",
      "source": [
        "loss.backward()"
      ],
      "metadata": {
        "id": "SWawx3gznCQi"
      },
      "execution_count": 13,
      "outputs": []
    },
    {
      "cell_type": "code",
      "source": [
        "print(w) # thisn is the same weights before backword propogation"
      ],
      "metadata": {
        "colab": {
          "base_uri": "https://localhost:8080/"
        },
        "id": "aZ3hIAQ-lsTB",
        "outputId": "c1450424-3204-4ad4-89d9-d3126d475587"
      },
      "execution_count": 14,
      "outputs": [
        {
          "output_type": "stream",
          "name": "stdout",
          "text": [
            "tensor([[ 0.6482, -1.3448, -0.0522],\n",
            "        [-0.1108,  0.4250, -2.2583]], requires_grad=True)\n"
          ]
        }
      ]
    },
    {
      "cell_type": "code",
      "source": [
        "print(w.grad) # this is the upgraded weight after backword propgation"
      ],
      "metadata": {
        "colab": {
          "base_uri": "https://localhost:8080/"
        },
        "id": "iI59JPLToKb8",
        "outputId": "f07fa17f-d758-4ea0-e32c-eeb50aadf65f"
      },
      "execution_count": 15,
      "outputs": [
        {
          "output_type": "stream",
          "name": "stdout",
          "text": [
            "tensor([[-11438.8721, -14390.9922,  -8424.6455],\n",
            "        [-15468.4492, -17173.6680, -10760.2959]])\n"
          ]
        }
      ]
    },
    {
      "cell_type": "code",
      "source": [
        "print(b.grad)"
      ],
      "metadata": {
        "colab": {
          "base_uri": "https://localhost:8080/"
        },
        "id": "hfq-8OVpvq4j",
        "outputId": "ce769649-fe08-4be2-b4e1-f213d45827a2"
      },
      "execution_count": 16,
      "outputs": [
        {
          "output_type": "stream",
          "name": "stdout",
          "text": [
            "tensor([-140.8178, -186.6556])\n"
          ]
        }
      ]
    },
    {
      "cell_type": "code",
      "source": [
        "with torch.no_grad():\n",
        "  w -=w.grad * 1e-5    # we are multiplying our wights with the very small(learning rate)\n",
        "  b -= b.grad * 1e-5"
      ],
      "metadata": {
        "id": "YOExTBdyoS5A"
      },
      "execution_count": 17,
      "outputs": []
    },
    {
      "cell_type": "code",
      "source": [
        "w.grad.zero_()\n",
        "b.grad.zero_()\n",
        "print(w.grad)\n",
        "print(b.grad)"
      ],
      "metadata": {
        "colab": {
          "base_uri": "https://localhost:8080/"
        },
        "id": "DqnRaovMw0pa",
        "outputId": "37971288-3655-414b-bc76-191d2d8d0031"
      },
      "execution_count": 18,
      "outputs": [
        {
          "output_type": "stream",
          "name": "stdout",
          "text": [
            "tensor([[0., 0., 0.],\n",
            "        [0., 0., 0.]])\n",
            "tensor([0., 0.])\n"
          ]
        }
      ]
    },
    {
      "cell_type": "code",
      "source": [
        "pred= model(inputs)\n",
        "print(preds)"
      ],
      "metadata": {
        "colab": {
          "base_uri": "https://localhost:8080/"
        },
        "id": "Yix2vlVuw0r9",
        "outputId": "4f32c0ff-24ca-4fa7-962b-3e4aee2e870d"
      },
      "execution_count": 19,
      "outputs": [
        {
          "output_type": "stream",
          "name": "stdout",
          "text": [
            "tensor([[ -46.3980,  -75.5520],\n",
            "        [ -64.0686, -116.0473],\n",
            "        [-128.2109,  -82.5033],\n",
            "        [   4.9904,  -75.4167],\n",
            "        [ -89.4019, -123.7587]], grad_fn=<AddBackward0>)\n"
          ]
        }
      ]
    },
    {
      "cell_type": "code",
      "source": [
        "loss=mse(preds,targets)\n",
        "loss"
      ],
      "metadata": {
        "colab": {
          "base_uri": "https://localhost:8080/"
        },
        "id": "jj7tslkaw0uF",
        "outputId": "a0084e69-495f-451d-97c5-7f849b1bbb8f"
      },
      "execution_count": 20,
      "outputs": [
        {
          "output_type": "execute_result",
          "data": {
            "text/plain": [
              "tensor(31625.7188, grad_fn=<DivBackward0>)"
            ]
          },
          "metadata": {},
          "execution_count": 20
        }
      ]
    },
    {
      "cell_type": "code",
      "source": [
        "# # Compute gradients\n",
        "# loss.backward()\n",
        "print(w.grad)\n",
        "print(b.grad)"
      ],
      "metadata": {
        "colab": {
          "base_uri": "https://localhost:8080/"
        },
        "id": "n9WXlWJ2w0wA",
        "outputId": "50cfe460-eb75-4e2c-d3e0-731eb51971d1"
      },
      "execution_count": 22,
      "outputs": [
        {
          "output_type": "stream",
          "name": "stdout",
          "text": [
            "tensor([[0., 0., 0.],\n",
            "        [0., 0., 0.]])\n",
            "tensor([-140.8178, -186.6556])\n"
          ]
        }
      ]
    },
    {
      "cell_type": "code",
      "source": [
        "with torch.no_grad():\n",
        "    w -= w.grad * 1e-5\n",
        "    b -= b.grad * 1e-5\n",
        "    w.grad.zero_()\n",
        "    b.grad.zero_()"
      ],
      "metadata": {
        "id": "-djaYedAw0yQ"
      },
      "execution_count": 23,
      "outputs": []
    },
    {
      "cell_type": "code",
      "source": [
        "preds=model(inputs)\n",
        "preds"
      ],
      "metadata": {
        "colab": {
          "base_uri": "https://localhost:8080/"
        },
        "id": "5CS9COplw00W",
        "outputId": "70398269-1e2b-47bb-cfb3-11d4b0947a51"
      },
      "execution_count": 24,
      "outputs": [
        {
          "output_type": "execute_result",
          "data": {
            "text/plain": [
              "tensor([[-24.7803, -48.1231],\n",
              "        [-35.6006, -79.9678],\n",
              "        [-94.0860, -39.7883],\n",
              "        [ 25.9661, -48.2692],\n",
              "        [-61.7937, -89.0628]], grad_fn=<AddBackward0>)"
            ]
          },
          "metadata": {},
          "execution_count": 24
        }
      ]
    },
    {
      "cell_type": "code",
      "source": [
        "loss = mse(preds, targets)\n",
        "print(loss)"
      ],
      "metadata": {
        "colab": {
          "base_uri": "https://localhost:8080/"
        },
        "id": "CVXjpZLOw02d",
        "outputId": "55349ba5-309e-4a11-bc08-d5b93eeb6032"
      },
      "execution_count": 25,
      "outputs": [
        {
          "output_type": "stream",
          "name": "stdout",
          "text": [
            "tensor(21981.8691, grad_fn=<DivBackward0>)\n"
          ]
        }
      ]
    },
    {
      "cell_type": "code",
      "source": [
        "for i in range(100):\n",
        "  preds=model(inputs)\n",
        "  loss=mse(preds,targets)\n",
        "  loss.backward()\n",
        "  with torch.no_grad():\n",
        "    w -= w.grad * 1e-5\n",
        "    b-=b.grad*1e-5\n",
        "\n",
        "    w.grad.zero_()\n",
        "    b.grad.zero_()"
      ],
      "metadata": {
        "id": "AGpWK063w056"
      },
      "execution_count": 26,
      "outputs": []
    },
    {
      "cell_type": "code",
      "source": [
        "pred= model(inputs)\n",
        "loss=mse(preds,targets)\n",
        "loss"
      ],
      "metadata": {
        "colab": {
          "base_uri": "https://localhost:8080/"
        },
        "id": "lIJyllnC4LH5",
        "outputId": "47c5ee04-92d5-4d3d-93b7-c27f0675eb75"
      },
      "execution_count": 27,
      "outputs": [
        {
          "output_type": "execute_result",
          "data": {
            "text/plain": [
              "tensor(795.4769, grad_fn=<DivBackward0>)"
            ]
          },
          "metadata": {},
          "execution_count": 27
        }
      ]
    },
    {
      "cell_type": "code",
      "source": [
        "preds"
      ],
      "metadata": {
        "colab": {
          "base_uri": "https://localhost:8080/"
        },
        "id": "McWhJuty4X3n",
        "outputId": "6e79a625-f2e4-4f18-db4d-c755f3f1fa5a"
      },
      "execution_count": 28,
      "outputs": [
        {
          "output_type": "execute_result",
          "data": {
            "text/plain": [
              "tensor([[ 66.5071,  75.2219],\n",
              "        [ 88.9296,  85.3054],\n",
              "        [ 88.3806, 160.0083],\n",
              "        [ 76.7460,  62.5358],\n",
              "        [ 80.8630,  77.7489]], grad_fn=<AddBackward0>)"
            ]
          },
          "metadata": {},
          "execution_count": 28
        }
      ]
    },
    {
      "cell_type": "code",
      "source": [
        "targets"
      ],
      "metadata": {
        "colab": {
          "base_uri": "https://localhost:8080/"
        },
        "id": "hb3IH4u54g2g",
        "outputId": "589d5c5a-2931-4721-91cf-6dc250fe6113"
      },
      "execution_count": 29,
      "outputs": [
        {
          "output_type": "execute_result",
          "data": {
            "text/plain": [
              "tensor([[ 56.,  70.],\n",
              "        [ 81., 101.],\n",
              "        [119., 133.],\n",
              "        [ 22.,  37.],\n",
              "        [103., 119.]])"
            ]
          },
          "metadata": {},
          "execution_count": 29
        }
      ]
    },
    {
      "cell_type": "code",
      "source": [
        "for i in range(100):\n",
        "  preds=model(inputs)\n",
        "  loss=mse(preds,targets)\n",
        "  loss.backward()\n",
        "  with torch.no_grad():\n",
        "    w -= w.grad * 1e-5\n",
        "    b-=b.grad*1e-5\n",
        "\n",
        "    w.grad.zero_()\n",
        "    b.grad.zero_()"
      ],
      "metadata": {
        "id": "IDO2XYLX4hs8"
      },
      "execution_count": 30,
      "outputs": []
    },
    {
      "cell_type": "code",
      "source": [
        "pred= model(inputs)\n",
        "loss=mse(preds,targets)\n",
        "loss"
      ],
      "metadata": {
        "colab": {
          "base_uri": "https://localhost:8080/"
        },
        "id": "iVG9RKjQ4l-3",
        "outputId": "2b644910-2dc0-42a9-cfe1-ae7cb805fcc5"
      },
      "execution_count": 31,
      "outputs": [
        {
          "output_type": "execute_result",
          "data": {
            "text/plain": [
              "tensor(388.4275, grad_fn=<DivBackward0>)"
            ]
          },
          "metadata": {},
          "execution_count": 31
        }
      ]
    },
    {
      "cell_type": "code",
      "source": [
        "preds"
      ],
      "metadata": {
        "colab": {
          "base_uri": "https://localhost:8080/"
        },
        "id": "UGJ_2Ewv4oQb",
        "outputId": "70d39cd8-13a1-4495-c791-127179c842f7"
      },
      "execution_count": 32,
      "outputs": [
        {
          "output_type": "execute_result",
          "data": {
            "text/plain": [
              "tensor([[ 62.0400,  73.7898],\n",
              "        [ 85.5493,  85.8819],\n",
              "        [103.2500, 160.9996],\n",
              "        [ 50.7492,  54.3675],\n",
              "        [ 90.1525,  83.5185]], grad_fn=<AddBackward0>)"
            ]
          },
          "metadata": {},
          "execution_count": 32
        }
      ]
    },
    {
      "cell_type": "code",
      "source": [
        "targets"
      ],
      "metadata": {
        "colab": {
          "base_uri": "https://localhost:8080/"
        },
        "id": "vKqu9yxF4u3S",
        "outputId": "7c828458-7218-4fc8-9c4a-ccd7598ef9e4"
      },
      "execution_count": 33,
      "outputs": [
        {
          "output_type": "execute_result",
          "data": {
            "text/plain": [
              "tensor([[ 56.,  70.],\n",
              "        [ 81., 101.],\n",
              "        [119., 133.],\n",
              "        [ 22.,  37.],\n",
              "        [103., 119.]])"
            ]
          },
          "metadata": {},
          "execution_count": 33
        }
      ]
    },
    {
      "cell_type": "code",
      "source": [
        "# Input (temp, rainfall, humidity)\n",
        "inputs = np.array([[73, 67, 43],\n",
        "                   [91, 88, 64],\n",
        "                   [87, 134, 58],\n",
        "                   [102, 43, 37],\n",
        "                   [69, 96, 70],\n",
        "                   [74, 66, 43],\n",
        "                   [91, 87, 65],\n",
        "                   [88, 134, 59],\n",
        "                   [101, 44, 37],\n",
        "                   [68, 96, 71],\n",
        "                   [73, 66, 44],\n",
        "                   [92, 87, 64],\n",
        "                   [87, 135, 57],\n",
        "                   [103, 43, 36],\n",
        "                   [68, 97, 70]],\n",
        "                  dtype='float32')\n",
        "\n",
        "# Targets (apples, oranges)\n",
        "targets = np.array([[56, 70],\n",
        "                    [81, 101],\n",
        "                    [119, 133],\n",
        "                    [22, 37],\n",
        "                    [103, 119],\n",
        "                    [57, 69],\n",
        "                    [80, 102],\n",
        "                    [118, 132],\n",
        "                    [21, 38],\n",
        "                    [104, 118],\n",
        "                    [57, 69],\n",
        "                    [82, 100],\n",
        "                    [118, 134],\n",
        "                    [20, 38],\n",
        "                    [102, 120]],\n",
        "                   dtype='float32')\n"
      ],
      "metadata": {
        "id": "kQvYy6hc4xDz"
      },
      "execution_count": 34,
      "outputs": []
    },
    {
      "cell_type": "code",
      "source": [
        "inputs=torch.from_numpy(inputs)\n",
        "targets= torch.from_numpy(targets)"
      ],
      "metadata": {
        "id": "myU42vPf5wsM"
      },
      "execution_count": 35,
      "outputs": []
    },
    {
      "cell_type": "markdown",
      "source": [
        "# TensorDataset(inputs, targets):\n",
        "\n",
        "- It's like putting your data into two separate boxes (tensors).\n",
        "- The first box (inputs) contains the information you want the computer to learn from (like images or numbers).\n",
        "- The second box (targets) contains the correct answers or labels that you want the computer to learn to predict"
      ],
      "metadata": {
        "id": "gMnltDNnevUl"
      }
    },
    {
      "cell_type": "code",
      "source": [
        "from torch.utils.data import TensorDataset"
      ],
      "metadata": {
        "id": "F1lLPeByDgIP"
      },
      "execution_count": 36,
      "outputs": []
    },
    {
      "cell_type": "code",
      "source": [
        "train_df=TensorDataset(inputs, targets)\n",
        "train_df[:5]"
      ],
      "metadata": {
        "colab": {
          "base_uri": "https://localhost:8080/"
        },
        "id": "sG8V6fB4E_9m",
        "outputId": "a75e1e17-49a2-43c4-c386-5dda216b43b5"
      },
      "execution_count": 37,
      "outputs": [
        {
          "output_type": "execute_result",
          "data": {
            "text/plain": [
              "(tensor([[ 73.,  67.,  43.],\n",
              "         [ 91.,  88.,  64.],\n",
              "         [ 87., 134.,  58.],\n",
              "         [102.,  43.,  37.],\n",
              "         [ 69.,  96.,  70.]]),\n",
              " tensor([[ 56.,  70.],\n",
              "         [ 81., 101.],\n",
              "         [119., 133.],\n",
              "         [ 22.,  37.],\n",
              "         [103., 119.]]))"
            ]
          },
          "metadata": {},
          "execution_count": 37
        }
      ]
    },
    {
      "cell_type": "code",
      "source": [
        "from torch.utils.data import DataLoader\n"
      ],
      "metadata": {
        "id": "MxEWb6W-FKUd"
      },
      "execution_count": 38,
      "outputs": []
    },
    {
      "cell_type": "code",
      "source": [
        "batch_size=5\n",
        "train_dataloader=DataLoader(train_df,batch_size, shuffle=True)\n",
        "train_dataloader"
      ],
      "metadata": {
        "colab": {
          "base_uri": "https://localhost:8080/"
        },
        "id": "_qEubpFzGQnA",
        "outputId": "234a5ce9-4838-4556-b0b3-838ee7416f10"
      },
      "execution_count": 39,
      "outputs": [
        {
          "output_type": "execute_result",
          "data": {
            "text/plain": [
              "<torch.utils.data.dataloader.DataLoader at 0x7ddb70c63df0>"
            ]
          },
          "metadata": {},
          "execution_count": 39
        }
      ]
    },
    {
      "cell_type": "code",
      "source": [
        "for inputs, targets in train_dataloader:\n",
        "  print(inputs)\n",
        "  print(targets)\n",
        ""
      ],
      "metadata": {
        "colab": {
          "base_uri": "https://localhost:8080/"
        },
        "id": "Bf81cDwCGnz8",
        "outputId": "fb03376f-cc29-4604-c586-08e813c5861c"
      },
      "execution_count": 40,
      "outputs": [
        {
          "output_type": "stream",
          "name": "stdout",
          "text": [
            "tensor([[ 73.,  67.,  43.],\n",
            "        [ 74.,  66.,  43.],\n",
            "        [102.,  43.,  37.],\n",
            "        [101.,  44.,  37.],\n",
            "        [ 88., 134.,  59.]])\n",
            "tensor([[ 56.,  70.],\n",
            "        [ 57.,  69.],\n",
            "        [ 22.,  37.],\n",
            "        [ 21.,  38.],\n",
            "        [118., 132.]])\n",
            "tensor([[ 68.,  96.,  71.],\n",
            "        [ 91.,  88.,  64.],\n",
            "        [ 73.,  66.,  44.],\n",
            "        [ 91.,  87.,  65.],\n",
            "        [ 87., 134.,  58.]])\n",
            "tensor([[104., 118.],\n",
            "        [ 81., 101.],\n",
            "        [ 57.,  69.],\n",
            "        [ 80., 102.],\n",
            "        [119., 133.]])\n",
            "tensor([[ 68.,  97.,  70.],\n",
            "        [ 69.,  96.,  70.],\n",
            "        [ 92.,  87.,  64.],\n",
            "        [ 87., 135.,  57.],\n",
            "        [103.,  43.,  36.]])\n",
            "tensor([[102., 120.],\n",
            "        [103., 119.],\n",
            "        [ 82., 100.],\n",
            "        [118., 134.],\n",
            "        [ 20.,  38.]])\n"
          ]
        }
      ]
    },
    {
      "cell_type": "code",
      "source": [
        "import torch\n",
        "import torch.nn as nn"
      ],
      "metadata": {
        "id": "RY7c083uHLn4"
      },
      "execution_count": 41,
      "outputs": []
    },
    {
      "cell_type": "code",
      "source": [
        "model= nn.Linear(3,2)\n",
        "print(model.weight)\n",
        "print(model.bias)"
      ],
      "metadata": {
        "colab": {
          "base_uri": "https://localhost:8080/"
        },
        "id": "ji4LWDmUMB2b",
        "outputId": "419514c1-82be-44de-8820-59e96ea0ccaa"
      },
      "execution_count": 48,
      "outputs": [
        {
          "output_type": "stream",
          "name": "stdout",
          "text": [
            "Parameter containing:\n",
            "tensor([[ 0.1296,  0.1044,  0.2387],\n",
            "        [ 0.2203,  0.3832, -0.5658]], requires_grad=True)\n",
            "Parameter containing:\n",
            "tensor([-0.3064,  0.1922], requires_grad=True)\n"
          ]
        }
      ]
    },
    {
      "cell_type": "code",
      "source": [
        "#another way to find to weight and bias\n",
        "list(model.parameters())"
      ],
      "metadata": {
        "colab": {
          "base_uri": "https://localhost:8080/"
        },
        "id": "9MNCmvRiMM2r",
        "outputId": "d5ed1a49-3e71-4f51-badb-3316dfe7933b"
      },
      "execution_count": 49,
      "outputs": [
        {
          "output_type": "execute_result",
          "data": {
            "text/plain": [
              "[Parameter containing:\n",
              " tensor([[ 0.1296,  0.1044,  0.2387],\n",
              "         [ 0.2203,  0.3832, -0.5658]], requires_grad=True),\n",
              " Parameter containing:\n",
              " tensor([-0.3064,  0.1922], requires_grad=True)]"
            ]
          },
          "metadata": {},
          "execution_count": 49
        }
      ]
    },
    {
      "cell_type": "code",
      "source": [
        "preds=model(inputs)\n",
        "preds"
      ],
      "metadata": {
        "colab": {
          "base_uri": "https://localhost:8080/"
        },
        "id": "WQcsw6DRMiMh",
        "outputId": "67719b1a-7a46-40b9-d2ed-8acf6dc22bad"
      },
      "execution_count": 50,
      "outputs": [
        {
          "output_type": "execute_result",
          "data": {
            "text/plain": [
              "tensor([[26.4147, 17.6182],\n",
              "        [35.9533, 17.7484],\n",
              "        [38.8058, 37.8899],\n",
              "        [26.2343, 18.2050],\n",
              "        [35.3702, 12.5724],\n",
              "        [26.4399, 17.4553],\n",
              "        [36.0877, 16.7993],\n",
              "        [39.1741, 37.5444],\n",
              "        [26.2091, 18.3679],\n",
              "        [35.4793, 11.7862],\n",
              "        [26.5490, 16.6691],\n",
              "        [35.9785, 17.5855],\n",
              "        [38.6715, 38.8390],\n",
              "        [26.1251, 18.9911],\n",
              "        [35.3450, 12.7353]], grad_fn=<AddmmBackward0>)"
            ]
          },
          "metadata": {},
          "execution_count": 50
        }
      ]
    },
    {
      "cell_type": "code",
      "source": [
        "import torch.nn.functional as F"
      ],
      "metadata": {
        "id": "B97BE732RloI"
      },
      "execution_count": 51,
      "outputs": []
    },
    {
      "cell_type": "code",
      "source": [
        "loss_fn=F.mse_loss\n",
        "loss_fn"
      ],
      "metadata": {
        "colab": {
          "base_uri": "https://localhost:8080/"
        },
        "id": "Z6ZV5KfpRp0-",
        "outputId": "57048d91-a1f1-46a8-db0c-21fe9af2b820"
      },
      "execution_count": 52,
      "outputs": [
        {
          "output_type": "execute_result",
          "data": {
            "text/plain": [
              "<function torch.nn.functional.mse_loss(input: torch.Tensor, target: torch.Tensor, size_average: Optional[bool] = None, reduce: Optional[bool] = None, reduction: str = 'mean') -> torch.Tensor>"
            ]
          },
          "metadata": {},
          "execution_count": 52
        }
      ]
    },
    {
      "cell_type": "code",
      "source": [
        "loss = loss_fn(preds, targets)\n",
        "print(loss)"
      ],
      "metadata": {
        "colab": {
          "base_uri": "https://localhost:8080/"
        },
        "id": "x5KqCIvLR3Mh",
        "outputId": "80ed3683-322c-461f-f963-15202f17741c"
      },
      "execution_count": 53,
      "outputs": [
        {
          "output_type": "stream",
          "name": "stdout",
          "text": [
            "tensor(4430.0889, grad_fn=<MseLossBackward0>)\n"
          ]
        }
      ]
    },
    {
      "cell_type": "code",
      "source": [
        "loss.item()"
      ],
      "metadata": {
        "colab": {
          "base_uri": "https://localhost:8080/"
        },
        "id": "dekBuBRKlNdQ",
        "outputId": "d89c4cfa-a998-4c31-fff8-263971c296c8"
      },
      "execution_count": 59,
      "outputs": [
        {
          "output_type": "execute_result",
          "data": {
            "text/plain": [
              "4430.0888671875"
            ]
          },
          "metadata": {},
          "execution_count": 59
        }
      ]
    },
    {
      "cell_type": "code",
      "source": [
        "opt= torch.optim.SGD(model.parameters(), lr= 1e-5)"
      ],
      "metadata": {
        "id": "CPIXvGtMUiE1"
      },
      "execution_count": 55,
      "outputs": []
    },
    {
      "cell_type": "code",
      "source": [
        "def fit(num_epochs,model,  loss_fn, opt, train_dataloader):\n",
        "  for epoch in range(num_epochs):\n",
        "\n",
        "    for input, target in train_dataloader:\n",
        "      preds= model(inputs)\n",
        "\n",
        "      loss= loss_fn(preds,targets)\n",
        "\n",
        "      loss.backward()\n",
        "\n",
        "      opt.step()\n",
        "\n",
        "      opt.zero_grad()\n",
        "\n",
        "    if (epoch+1)%10==0:\n",
        "      print(f'Epocs {epoch+1}/{num_epochs}, loss: loss.items{loss.item():.4f}') # get teh numerical value of the loss function\n",
        "\n"
      ],
      "metadata": {
        "id": "6IhBxXpOiiIg"
      },
      "execution_count": 68,
      "outputs": []
    },
    {
      "cell_type": "code",
      "source": [
        "fit(100,model, loss_fn, opt, train_dataloader)"
      ],
      "metadata": {
        "colab": {
          "base_uri": "https://localhost:8080/"
        },
        "id": "AYVh5bNkmC-n",
        "outputId": "1a4f74ba-e3b8-4d54-f8d1-4353c2dbb0fd"
      },
      "execution_count": 69,
      "outputs": [
        {
          "output_type": "stream",
          "name": "stdout",
          "text": [
            "Epocs 10/100, loss: loss.items51.0466\n",
            "Epocs 20/100, loss: loss.items46.4624\n",
            "Epocs 30/100, loss: loss.items42.6878\n",
            "Epocs 40/100, loss: loss.items39.5019\n",
            "Epocs 50/100, loss: loss.items36.7522\n",
            "Epocs 60/100, loss: loss.items34.3329\n",
            "Epocs 70/100, loss: loss.items32.1698\n",
            "Epocs 80/100, loss: loss.items30.2110\n",
            "Epocs 90/100, loss: loss.items28.4191\n",
            "Epocs 100/100, loss: loss.items26.7673\n"
          ]
        }
      ]
    },
    {
      "cell_type": "code",
      "source": [
        "# Generate predictions\n",
        "preds = model(inputs)\n",
        "preds"
      ],
      "metadata": {
        "colab": {
          "base_uri": "https://localhost:8080/"
        },
        "id": "xjSQC-l7o5lT",
        "outputId": "1ff84825-430b-4807-d9b0-71e86b442ede"
      },
      "execution_count": 70,
      "outputs": [
        {
          "output_type": "execute_result",
          "data": {
            "text/plain": [
              "tensor([[ 57.1741,  71.1517],\n",
              "        [ 81.1975,  95.8668],\n",
              "        [119.8089, 142.5872],\n",
              "        [ 22.2554,  41.1364],\n",
              "        [ 99.5028, 108.4106],\n",
              "        [ 55.9352,  69.9891],\n",
              "        [ 80.8823,  95.0772],\n",
              "        [120.0196, 142.7092],\n",
              "        [ 23.4943,  42.2990],\n",
              "        [100.4265, 108.7837],\n",
              "        [ 56.8589,  70.3622],\n",
              "        [ 79.9586,  94.7042],\n",
              "        [120.1240, 143.3767],\n",
              "        [ 21.3317,  40.7633],\n",
              "        [100.7417, 109.5732]], grad_fn=<AddmmBackward0>)"
            ]
          },
          "metadata": {},
          "execution_count": 70
        }
      ]
    },
    {
      "cell_type": "code",
      "source": [
        "targets"
      ],
      "metadata": {
        "colab": {
          "base_uri": "https://localhost:8080/"
        },
        "id": "OyUjYtV9pfhJ",
        "outputId": "effb5f67-70cf-409a-fe3b-a159072a24f5"
      },
      "execution_count": 71,
      "outputs": [
        {
          "output_type": "execute_result",
          "data": {
            "text/plain": [
              "tensor([[ 56.,  70.],\n",
              "        [ 81., 101.],\n",
              "        [119., 133.],\n",
              "        [ 22.,  37.],\n",
              "        [103., 119.],\n",
              "        [ 57.,  69.],\n",
              "        [ 80., 102.],\n",
              "        [118., 132.],\n",
              "        [ 21.,  38.],\n",
              "        [104., 118.],\n",
              "        [ 57.,  69.],\n",
              "        [ 82., 100.],\n",
              "        [118., 134.],\n",
              "        [ 20.,  38.],\n",
              "        [102., 120.]])"
            ]
          },
          "metadata": {},
          "execution_count": 71
        }
      ]
    },
    {
      "cell_type": "code",
      "source": [
        "model(torch.tensor([[75, 63, 44.]]))"
      ],
      "metadata": {
        "colab": {
          "base_uri": "https://localhost:8080/"
        },
        "id": "9yAXH-rhpgeP",
        "outputId": "a540d562-bec6-4422-ac24-d311eebfda81"
      },
      "execution_count": 72,
      "outputs": [
        {
          "output_type": "execute_result",
          "data": {
            "text/plain": [
              "tensor([[53.4988, 67.0000]], grad_fn=<AddmmBackward0>)"
            ]
          },
          "metadata": {},
          "execution_count": 72
        }
      ]
    },
    {
      "cell_type": "code",
      "source": [
        "model(torch.tensor([79,89,77.]))"
      ],
      "metadata": {
        "colab": {
          "base_uri": "https://localhost:8080/"
        },
        "id": "lI-i4JfOpmXh",
        "outputId": "9d00283c-d59b-4573-8a08-c4a223fde9eb"
      },
      "execution_count": 73,
      "outputs": [
        {
          "output_type": "execute_result",
          "data": {
            "text/plain": [
              "tensor([ 93.7315, 101.6283], grad_fn=<AddBackward0>)"
            ]
          },
          "metadata": {},
          "execution_count": 73
        }
      ]
    }
  ]
}